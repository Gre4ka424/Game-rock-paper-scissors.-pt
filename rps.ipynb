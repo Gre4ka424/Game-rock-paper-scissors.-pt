{
 "cells": [
  {
   "cell_type": "markdown",
   "id": "c3712f56-5615-4bab-ad51-740206906927",
   "metadata": {},
   "source": [
    "**Rock,paper,scissors**"
   ]
  },
  {
   "cell_type": "code",
   "execution_count": 10,
   "id": "055488e4-dd64-43fc-a81d-0d72719dafef",
   "metadata": {},
   "outputs": [
    {
     "name": "stdin",
     "output_type": "stream",
     "text": [
      "Enter rock, paper, or scissors:  scissors\n"
     ]
    },
    {
     "name": "stdout",
     "output_type": "stream",
     "text": [
      "You chose scissors, computer chose scissors.\n",
      "It's a tie!\n"
     ]
    }
   ],
   "source": [
    "import random\n",
    "\n",
    "def get_computer_choice():\n",
    "    choices = [\"rock\", \"paper\", \"scissors\"]\n",
    "    return random.choice(choices)\n",
    "\n",
    "def decide_winner(user, computer):\n",
    "    if user == computer:\n",
    "        return \"It's a tie!\"\n",
    "    elif (user == \"rock\" and computer == \"scissor\") or \\\n",
    "         (user == \"scissors\" and computer == \"paper\") or \\\n",
    "         (user == \"paper\" and computer == \"rock\"):\n",
    "        return \"You win!\"\n",
    "    else:\n",
    "        return \"Computer wins!\"\n",
    "\n",
    "user_choice = input(\"Enter rock, paper, or scissors: \").lower()\n",
    "computer_choice = get_computer_choice()\n",
    "\n",
    "print(f\"You chose {user_choice}, computer chose {computer_choice}.\")\n",
    "print(decide_winner(user_choice, computer_choice))"
   ]
  },
  {
   "cell_type": "code",
   "execution_count": null,
   "id": "139e0df1-9f2c-49b6-b0d2-0afe0e45221a",
   "metadata": {},
   "outputs": [],
   "source": []
  }
 ],
 "metadata": {
  "kernelspec": {
   "display_name": "Python 3 (ipykernel)",
   "language": "python",
   "name": "python3"
  },
  "language_info": {
   "codemirror_mode": {
    "name": "ipython",
    "version": 3
   },
   "file_extension": ".py",
   "mimetype": "text/x-python",
   "name": "python",
   "nbconvert_exporter": "python",
   "pygments_lexer": "ipython3",
   "version": "3.12.4"
  }
 },
 "nbformat": 4,
 "nbformat_minor": 5
}
